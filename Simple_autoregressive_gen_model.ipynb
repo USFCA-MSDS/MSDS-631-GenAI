{
  "nbformat": 4,
  "nbformat_minor": 0,
  "metadata": {
    "colab": {
      "provenance": []
    },
    "kernelspec": {
      "name": "python3",
      "display_name": "Python 3"
    },
    "language_info": {
      "name": "python"
    }
  },
  "cells": [
    {
      "cell_type": "code",
      "execution_count": 2,
      "metadata": {
        "colab": {
          "base_uri": "https://localhost:8080/",
          "height": 621
        },
        "id": "oGm-NqvB5o26",
        "outputId": "f3fb075d-40d7-4db2-a5c0-f7f05b458078"
      },
      "outputs": [
        {
          "output_type": "stream",
          "name": "stdout",
          "text": [
            "Epoch [1/10], Loss: 0.0844\n",
            "Epoch [2/10], Loss: 0.0755\n",
            "Epoch [3/10], Loss: 0.0666\n",
            "Epoch [4/10], Loss: 0.0664\n",
            "Epoch [5/10], Loss: 0.0677\n",
            "Epoch [6/10], Loss: 0.0653\n",
            "Epoch [7/10], Loss: 0.0679\n",
            "Epoch [8/10], Loss: 0.0635\n",
            "Epoch [9/10], Loss: 0.0706\n",
            "Epoch [10/10], Loss: 0.0634\n",
            "Test Loss: 0.0647\n"
          ]
        },
        {
          "output_type": "display_data",
          "data": {
            "text/plain": [
              "<Figure size 640x480 with 1 Axes>"
            ],
            "image/png": "[encoded data removed]"
          },
          "metadata": {}
        }
      ],
      "source": [
        "# Import Libraries\n",
        "import torch\n",
        "import torch.nn as nn\n",
        "import torch.optim as optim\n",
        "from torchvision import datasets, transforms\n",
        "from torch.utils.data import DataLoader\n",
        "import matplotlib.pyplot as plt\n",
        "\n",
        "# Load and Preprocess the Data\n",
        "transform = transforms.Compose([\n",
        "    transforms.ToTensor(),  # Convert images to tensors\n",
        "    transforms.Normalize((0.5,), (0.5,))  # Normalize to [-1, 1]\n",
        "])\n",
        "\n",
        "train_dataset = datasets.MNIST(root='./data', train=True, download=True, transform=transform)\n",
        "test_dataset = datasets.MNIST(root='./data', train=False, download=True, transform=transform)\n",
        "\n",
        "train_loader = DataLoader(train_dataset, batch_size=64, shuffle=True)\n",
        "test_loader = DataLoader(test_dataset, batch_size=64, shuffle=False)\n",
        "\n",
        "# Define the Model Architecture\n",
        "class AutoregressiveModel(nn.Module):\n",
        "    def __init__(self, input_dim, hidden_dim, output_dim):\n",
        "        super(AutoregressiveModel, self).__init__()\n",
        "        self.fc1 = nn.Linear(input_dim, hidden_dim)\n",
        "        self.fc2 = nn.Linear(hidden_dim, output_dim)\n",
        "        self.relu = nn.ReLU()\n",
        "\n",
        "    def forward(self, x):\n",
        "        x = self.relu(self.fc1(x))\n",
        "        x = torch.sigmoid(self.fc2(x))  # Ensure outputs are between 0 and 1\n",
        "        return x\n",
        "\n",
        "input_dim = 784  # 28x28 images flattened\n",
        "hidden_dim = 256\n",
        "output_dim = 784\n",
        "\n",
        "model = AutoregressiveModel(input_dim, hidden_dim, output_dim)\n",
        "\n",
        "# Define the Loss Function and Optimizer\n",
        "criterion = nn.BCELoss()\n",
        "optimizer = optim.Adam(model.parameters(), lr=0.001)\n",
        "\n",
        "# Train the Model\n",
        "num_epochs = 10\n",
        "\n",
        "for epoch in range(num_epochs):\n",
        "    model.train()\n",
        "    for images, _ in train_loader:\n",
        "        images = (images.view(-1, 784) + 1) / 2  # Flatten and transform to [0, 1]\n",
        "\n",
        "        # Forward pass\n",
        "        outputs = model(images)\n",
        "        loss = criterion(outputs, images)\n",
        "\n",
        "        # Backward pass and optimization\n",
        "        optimizer.zero_grad()\n",
        "        loss.backward()\n",
        "        optimizer.step()\n",
        "\n",
        "    print(f'Epoch [{epoch+1}/{num_epochs}], Loss: {loss.item():.4f}')\n",
        "\n",
        "# Evaluate the Model\n",
        "model.eval()\n",
        "with torch.no_grad():\n",
        "    test_loss = 0\n",
        "    for images, _ in test_loader:\n",
        "        images = (images.view(-1, 784) + 1) / 2  # Flatten and transform to [0, 1]\n",
        "        outputs = model(images)\n",
        "        loss = criterion(outputs, images)\n",
        "        test_loss += loss.item()\n",
        "\n",
        "    print(f'Test Loss: {test_loss / len(test_loader):.4f}')\n",
        "\n",
        "# Generate Samples\n",
        "def generate_image(model):\n",
        "    model.eval()\n",
        "    with torch.no_grad():\n",
        "        generated_image = torch.zeros(1, 784)  # Start with a blank image\n",
        "        for i in range(784):\n",
        "            output = model(generated_image)\n",
        "            generated_image[0, i] = output[0, i]\n",
        "    generated_image = generated_image.view(28, 28).numpy()\n",
        "    plt.imshow(generated_image, cmap='gray')\n",
        "    plt.show()\n",
        "\n",
        "generate_image(model)\n"
      ]
    },
    {
      "cell_type": "code",
      "source": [],
      "metadata": {
        "id": "jcDdL5WE5pbx"
      },
      "execution_count": null,
      "outputs": []
    }
  ]
}