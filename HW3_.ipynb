{
  "nbformat": 4,
  "nbformat_minor": 0,
  "metadata": {
    "colab": {
      "provenance": []
    },
    "kernelspec": {
      "name": "python3",
      "display_name": "Python 3"
    },
    "language_info": {
      "name": "python"
    }
  },
  "cells": [
    {
      "cell_type": "markdown",
      "source": [
        "# Introduction\n",
        "\n",
        "In the realm of computational linguistics and natural language processing, Markov chains stand as a powerful mathematical model for understanding and generating sequential data, particularly in the context of text. Leveraging principles from probability theory, Markov chains offer a structured framework to analyze the transition of states within a system over discrete time steps. In this discourse, we embark on a rigorous exploration of Markov chains applied to text generation, unraveling the underlying mathematics and delving into their practical implementation.\n",
        "\n",
        "## Markov Chains\n",
        "\n",
        "Let us begin by elucidating the essence of Markov chains. Formally, a Markov chain is characterized by a sequence of states, where the probability of transitioning from one state to another depends solely on the current state and not on the sequence of events that preceded it. Mathematically, we denote a Markov chain as a stochastic process $(X_0, X_1, X_2, \\ldots)$, where each random variable $X_i$ represents the state of the system at time step $i$. The crucial property that defines a Markov chain is the Markov property, which asserts that for any $i > 0$ and any sequence of states $x_0, x_1, \\ldots, x_i$, the probability of transitioning to state $x_{i+1}$ depends only on the current state $x_i$, as expressed by the conditional probability:\n",
        "\n",
        "$$ P(X_{i+1} = x_{i+1} | X_i = x_i, X_{i-1} = x_{i-1}, \\ldots, X_0 = x_0) = P(X_{i+1} = x_{i+1} | X_i = x_i) $$\n",
        "\n",
        "## Probability\n",
        "\n",
        "Central to the analysis of Markov chains is the notion of probability. Probability theory provides a mathematical framework for quantifying uncertainty and randomness, allowing us to model and predict the likelihood of various outcomes. In the context of Markov chains, we employ probabilities to characterize the transition dynamics between states. Specifically, given the current state $x_i$ in the chain, we compute the conditional probability distribution over possible next states $x_{i+1}$. This distribution encapsulates the likelihood of transitioning to each possible state, with probabilities summing to unity.\n",
        "\n",
        "## Conditional Probability\n",
        "\n",
        "The concept of conditional probability plays a pivotal role in Markov chain analysis. Conditional probability quantifies the likelihood of an event occurring given that another event has already occurred. In the context of Markov chains, the transition from one state to another is inherently probabilistic and is governed by conditional probabilities. Formally, the conditional probability of transitioning to state $x_{i+1}$ given the current state $x_i$ is denoted as $P(X_{i+1} = x_{i+1} | X_i = x_i)$. This conditional probability is computed based on the observed frequencies of state transitions within the text corpus.\n",
        "\n",
        "## Text Corpus\n",
        "\n",
        "At the heart of Markov chain-based text generation lies the text corpus, a structured collection of textual data used as input for modeling. The text corpus serves as the foundation upon which the Markov chain is constructed, with each word in the corpus representing a potential state in the chain. By analyzing the sequential arrangement of words within the corpus, we extract valuable insights into the transition probabilities between states, thereby informing the construction of the Markov chain model.\n",
        "\n",
        "## Word Cloud\n",
        "\n",
        "A word cloud emerges as a visually compelling tool for elucidating the distribution of word frequencies within a text corpus. In the context of Markov chain-based text generation, the word cloud offers a graphical representation of the possible next words for a given state in the chain. By visualizing the frequency distribution of next-word candidates, the word cloud facilitates an intuitive understanding of the transition dynamics encoded within the Markov chain model.\n",
        "\n",
        "Through a comprehensive exploration of these mathematical concepts and their practical application, we endeavor to unravel the intricacies of Markov chain-based text generation, illuminating the underlying principles that govern the generation of coherent and contextually relevant textual output.\n"
      ],
      "metadata": {
        "id": "LZlJwqts7I-0"
      }
    },
    {
      "cell_type": "code",
      "source": [
        "text_data = \"\"\"\n",
        "The sky stretched out endlessly above, a vast canvas of azure with wisps of white clouds drifting lazily by. The sun, a radiant orb of golden light, cast its warm glow upon the earth below, bathing everything in a soft, comforting light. A gentle breeze rustled through the trees, their leaves shimmering in the sunlight like emeralds.\n",
        "\n",
        "As I walked along the winding path, I felt a sense of peace wash over me. Nature had a way of soothing the soul, of calming the mind and lifting the spirit. I listened to the symphony of sounds around me - the chirping of birds, the whispering of the wind, the rustling of leaves - and felt a deep connection to the world around me.\n",
        "\n",
        "I stopped for a moment to admire a patch of wildflowers growing by the side of the path. Their vibrant colors stood out against the backdrop of greenery, a beautiful tapestry woven by nature's hand. I bent down to inhale their sweet scent, closing my eyes and letting their perfume envelop me in a fragrant embrace.\n",
        "\n",
        "As I continued on my journey, I couldn't help but marvel at the beauty of the natural world. From the towering mountains to the meandering rivers, from the lush forests to the sprawling meadows, there was so much wonder to behold. Each tree, each blade of grass, seemed to hum with life, a testament to the incredible diversity of our planet.\n",
        "\n",
        "As the day drew to a close and the sun dipped below the horizon, painting the sky in hues of orange and pink, I felt a profound sense of gratitude. Gratitude for the beauty that surrounded me, for the simple joys of nature, for the opportunity to be alive and present in this moment.\n",
        "\n",
        "And so, with a heart full of gratitude and a soul at peace, I continued on my journey, knowing that wherever life may take me, I would always find solace and beauty in the natural world.\n",
        "\"\"\"\n"
      ],
      "metadata": {
        "id": "ccY2VdrR50_v"
      },
      "execution_count": 4,
      "outputs": []
    },
    {
      "cell_type": "code",
      "execution_count": 11,
      "metadata": {
        "colab": {
          "base_uri": "https://localhost:8080/",
          "height": 491
        },
        "id": "vUA5DchE5QMk",
        "outputId": "2568f404-3a61-4bfa-f763-37449f6219fb"
      },
      "outputs": [
        {
          "output_type": "stream",
          "name": "stdout",
          "text": [
            "Generated Text:\n",
            "to a close and the sun dipped below the horizon, painting the sky in hues of orange and pink, I felt a deep connection to the world around me. I stopped for a moment to admire a patch of wildflowers growing by the side of the natural world. From the towering mountains\n"
          ]
        },
        {
          "output_type": "display_data",
          "data": {
            "text/plain": [
              "<Figure size 800x400 with 1 Axes>"
            ],
            "image/png": "[encoded data removed]"
          },
          "metadata": {}
        }
      ],
      "source": [
        "# Import necessary libraries\n",
        "import random\n",
        "import collections\n",
        "\n",
        "# I am using this one for the HW but you can replace it with your own using the function below\n",
        "def load_text():\n",
        "    return text_data\n",
        "\n",
        "\n",
        "# Function to load the text data\n",
        "def load_text_from_hd(file_path):\n",
        "    with open(file_path, 'r', encoding='utf-8') as file:\n",
        "        text = file.read()\n",
        "    return text\n",
        "\n",
        "# Function to build the Markov Chain model\n",
        "def build_markov_chain(text, order=1):\n",
        "    markov_chain = collections.defaultdict(list)\n",
        "    words = text.split()\n",
        "    for i in range(len(words) - order):\n",
        "        state = tuple(words[i:i + order])\n",
        "        next_word = words[i + order]\n",
        "        markov_chain[state].append(next_word)\n",
        "    return markov_chain\n",
        "\n",
        "# Function to generate new text using the Markov Chain model\n",
        "def generate_text(markov_chain, start_state, num_words=50):\n",
        "    current_state = start_state\n",
        "    generated_text = list(current_state)\n",
        "    for _ in range(num_words):\n",
        "        next_words = markov_chain[current_state]\n",
        "        next_word = random.choice(next_words)\n",
        "        generated_text.append(next_word)\n",
        "        current_state = tuple(generated_text[-len(current_state):])\n",
        "    return ' '.join(generated_text)\n",
        "\n",
        "# Main execution starts here\n",
        "# Set the parameters\n",
        "file_path = 'your_text_file.txt'  # Replace with the path to your text file\n",
        "order = 2\n",
        "num_words = 50\n",
        "\n",
        "# Load and prepare the data\n",
        "text = load_text()\n",
        "markov_chain = build_markov_chain(text, order)\n",
        "\n",
        "# Generate new text\n",
        "start_state = random.choice(list(markov_chain.keys()))\n",
        "generated_text = generate_text(markov_chain, start_state, num_words)\n",
        "\n",
        "# Print the generated text\n",
        "print(\"Generated Text:\")\n",
        "print(generated_text)\n",
        "# Plotting function to visualize word transitions (for advanced students)\n",
        "def plot_word_transitions(markov_chain, state):\n",
        "    import matplotlib.pyplot as plt\n",
        "    from wordcloud import WordCloud\n",
        "\n",
        "    # Check if there are words associated with the given state\n",
        "    if state not in markov_chain:\n",
        "        print(\"No words associated with the given state.\")\n",
        "        return\n",
        "\n",
        "    # Create a string of all possible next words\n",
        "    text = ' '.join(markov_chain[state])\n",
        "\n",
        "    # Check if the text is empty\n",
        "    if not text:\n",
        "        print(\"No words found for the given state.\")\n",
        "        return\n",
        "\n",
        "    # Generate the word cloud\n",
        "    wordcloud = WordCloud(width=800, height=400, background_color ='white').generate(text)\n",
        "\n",
        "    # Plot the word cloud\n",
        "    plt.figure(figsize = (8, 4), facecolor = None)\n",
        "    plt.imshow(wordcloud)\n",
        "    plt.axis(\"off\")\n",
        "    plt.tight_layout(pad=0)\n",
        "    plt.show()\n",
        "\n",
        "\n",
        "\n",
        "# Optional: Visualize transitions from a given state\n",
        "plot_word_transitions(markov_chain, start_state)\n"
      ]
    },
    {
      "cell_type": "markdown",
      "source": [
        "# Explanation of build_markov_chain Function\n",
        "\n",
        "**1. Markov Chain:**\n",
        "   - A Markov chain is a stochastic process where transitions between states occur based on the current state alone, independent of previous states.\n",
        "\n",
        "**2. State and Transition:**\n",
        "   - A state represents a context within the text, typically defined by a sequence of words. Transitions between states correspond to the occurrence of subsequent words in the text.\n",
        "\n",
        "**3. Order of the Model:**\n",
        "   - The order of the Markov Chain determines the number of preceding words considered when defining a state.\n",
        "\n",
        "**4. Transition Probabilities:**\n",
        "   - Transition probabilities quantify the likelihood of moving from one state to another, estimated from observed frequencies of state transitions in the text data.\n",
        "\n",
        "**5. Building the Markov Chain:**\n",
        "   - The `build_markov_chain` function constructs the Markov Chain model by iterating over the text data and creating state-transition pairs.\n",
        "   - For each word in the text, it defines a state tuple consisting of the current word and the preceding `order - 1` words.\n",
        "   - It then records the next word in the text after each state, updating the Markov Chain dictionary accordingly.\n",
        "\n",
        "In summary, the `build_markov_chain` function implements the principles of Markov Chains to model text generation, capturing sequential dependencies between words based on the current state and order of the model.\n"
      ],
      "metadata": {
        "id": "qppOl4GE80Hr"
      }
    },
    {
      "cell_type": "code",
      "source": [],
      "metadata": {
        "id": "80fzcF_x8z0r"
      },
      "execution_count": null,
      "outputs": []
    },
    {
      "cell_type": "code",
      "source": [],
      "metadata": {
        "id": "cmqV93zL5Qod"
      },
      "execution_count": null,
      "outputs": []
    },
    {
      "cell_type": "markdown",
      "source": [
        "\n",
        "**Objective:** Implement and experiment with a basic Markov Chain text generation model in Python.\n",
        "\n",
        "1. **Code Understanding:**\n",
        "   - Carefully read and understand the provided Python code, paying attention to the functions `load_text_from_hd`, `build_markov_chain`, `generate_text`, and `plot_word_transitions`.\n",
        "   - Describe in your own words how the Markov Chain model is constructed and how text is generated based on the model.\n",
        "\n",
        "2. **Experimentation:**\n",
        "   - Experiment with different values for the `order` parameter in the `build_markov_chain` function. How does changing the order affect the generated text?\n",
        "   - Try generating text with different numbers of words (`num_words`). How does the length of the generated text impact its coherence and relevance?\n",
        "\n",
        "3. **Text Data:**\n",
        "   - Choose or find a text dataset (`your_text_file.txt`) to use as input for the Markov Chain model. It could be a book, an article, or any other text document.\n",
        "   - Load the chosen text dataset into the Markov Chain model and generate text based on it. Observe any patterns or interesting outcomes.\n"
      ],
      "metadata": {
        "id": "kb70aixE8CLX"
      }
    },
    {
      "cell_type": "code",
      "source": [],
      "metadata": {
        "id": "VSLojZot8DXQ"
      },
      "execution_count": null,
      "outputs": []
    }
  ]
}