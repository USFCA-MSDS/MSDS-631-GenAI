{
  "nbformat": 4,
  "nbformat_minor": 0,
  "metadata": {
    "colab": {
      "provenance": []
    },
    "kernelspec": {
      "name": "python3",
      "display_name": "Python 3"
    },
    "language_info": {
      "name": "python"
    }
  },
  "cells": [
    {
      "cell_type": "code",
      "execution_count": null,
      "metadata": {
        "id": "8FQ06qqU7EjV"
      },
      "outputs": [],
      "source": [
        "# Import Libraries\n",
        "import torch\n",
        "import torch.nn as nn\n",
        "import torch.optim as optim\n",
        "from torchvision import datasets, transforms\n",
        "from torch.utils.data import DataLoader\n",
        "import matplotlib.pyplot as plt\n",
        "import numpy as np\n",
        "\n",
        "# Load and Preprocess the Data\n",
        "transform = transforms.Compose([\n",
        "    transforms.ToTensor(),  # Convert images to tensors\n",
        "    transforms.Normalize((0.5,), (0.5,))  # Normalize to [-1, 1]\n",
        "])\n",
        "\n",
        "train_dataset = datasets.MNIST(root='./data', train=True, download=True, transform=transform)\n",
        "test_dataset = datasets.MNIST(root='./data', train=False, download=True, transform=transform)\n",
        "\n",
        "train_loader = DataLoader(train_dataset, batch_size=64, shuffle=True)\n",
        "test_loader = DataLoader(test_dataset, batch_size=64, shuffle=False)\n",
        "\n",
        "# Define the PixelCNN Model Architecture\n",
        "class PixelCNN(nn.Module):\n",
        "    def __init__(self):\n",
        "        super(PixelCNN, self).__init__()\n",
        "        self.conv1 = nn.Conv2d(1, 64, kernel_size=7, padding=3)  # Large receptive field\n",
        "        self.conv2 = nn.Conv2d(64, 64, kernel_size=7, padding=3)\n",
        "        self.conv3 = nn.Conv2d(64, 64, kernel_size=1)  # 1x1 conv to mix features\n",
        "        self.relu = nn.ReLU()\n",
        "        self.sigmoid = nn.Sigmoid()\n",
        "\n",
        "    def forward(self, x):\n",
        "        out = self.relu(self.conv1(x))\n",
        "        out = self.relu(self.conv2(out))\n",
        "        out = self.sigmoid(self.conv3(out))  # Ensure output is in [0, 1]\n",
        "        return out\n",
        "\n",
        "model = PixelCNN()\n",
        "\n",
        "# Define the Loss Function and Optimizer\n",
        "criterion = nn.BCELoss()\n",
        "optimizer = optim.Adam(model.parameters(), lr=0.001)\n",
        "\n",
        "# Train the Model\n",
        "num_epochs = 10\n",
        "\n",
        "for epoch in range(num_epochs):\n",
        "    model.train()\n",
        "    for images, _ in train_loader:\n",
        "        images = (images + 1) / 2  # Transform images to [0, 1]\n",
        "\n",
        "        # Forward pass\n",
        "        outputs = model(images)\n",
        "        loss = criterion(outputs, images)\n",
        "\n",
        "        # Backward pass and optimization\n",
        "        optimizer.zero_grad()\n",
        "        loss.backward()\n",
        "        optimizer.step()\n",
        "\n",
        "    print(f'Epoch [{epoch+1}/{num_epochs}], Loss: {loss.item():.4f}')\n",
        "\n",
        "# Generate Samples\n",
        "def generate_image(model):\n",
        "    model.eval()\n",
        "    with torch.no_grad():\n",
        "        generated_image = torch.zeros(1, 1, 28, 28)  # Start with a blank image\n",
        "        for i in range(28):\n",
        "            for j in range(28):\n",
        "                output = model(generated_image)\n",
        "                generated_image[0, 0, i, j] = output[0, 0, i, j]\n",
        "    generated_image = generated_image.squeeze().numpy()\n",
        "    plt.imshow(generated_image, cmap='gray')\n",
        "    plt.show()\n",
        "\n",
        "generate_image(model)\n"
      ]
    },
    {
      "cell_type": "code",
      "source": [],
      "metadata": {
        "id": "rhSUl1cn7Guv"
      },
      "execution_count": null,
      "outputs": []
    }
  ]
}